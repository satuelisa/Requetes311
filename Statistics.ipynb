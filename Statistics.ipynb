{
 "cells": [
  {
   "cell_type": "markdown",
   "metadata": {},
   "source": [
    "# A Data Science Case Study with Python: part 4\n",
    "\n",
    "Make sure you are familiar with Chapters 1 & 2 of Nathan George's book [Practical Data Science with\n",
    "Python](https://www.packtpub.com/product/practical-data-science-with-python/9781801071970) before diving into this notebook.\n",
    "\n",
    "We work with the City of Montreal 311 data set. This is the third notebook in a sequence; please start with the first part if you landed here via some other route. regardless, we will reload the data in the first cells."
   ]
  },
  {
   "cell_type": "code",
   "execution_count": 1,
   "metadata": {},
   "outputs": [],
   "source": [
    "import os.path \n",
    "filename = 'requetes311.csv' \n",
    "if os.path.isfile(filename): # file exists\n",
    "    print('We have the data at hand.') \n",
    "else: # and what to do if not\n",
    "    print('ERROR: Please download the data and put it in this same directory')"
   ]
  },
  {
   "cell_type": "markdown",
   "metadata": {},
   "source": [
    "Now, we load the data into a Pandas data frame and see what we got in terms of rows and columns. Since this is a rather large file, this might take a while. Be patient."
   ]
  },
  {
   "cell_type": "code",
   "execution_count": 2,
   "metadata": {},
   "outputs": [
    {
     "name": "stdout",
     "output_type": "stream",
     "text": [
      "Attempting to load the data. (Do NOT click run again, this takes some time.)\n",
      "Good to go :)\n"
     ]
    }
   ],
   "source": [
    "import pandas as pd \n",
    "print('Attempting to load the data. (Do NOT click run again, this takes some time.)')\n",
    "data = pd.read_csv(filename, low_memory = False)\n",
    "print('Good to go :)')"
   ]
  },
  {
   "cell_type": "markdown",
   "metadata": {},
   "source": [
    "## Statistical relationships between numerical columns\n",
    "\n",
    "Let's get a refresher on what columns the data set contains. "
   ]
  },
  {
   "cell_type": "code",
   "execution_count": 3,
   "metadata": {},
   "outputs": [
    {
     "name": "stdout",
     "output_type": "stream",
     "text": [
      "Column at index 0 is called ID_UNIQUE\n",
      "Column at index 1 is called NATURE\n",
      "Column at index 2 is called ACTI_NOM\n",
      "Column at index 3 is called TYPE_LIEU_INTERV\n",
      "Column at index 4 is called RUE\n",
      "Column at index 5 is called RUE_INTERSECTION1\n",
      "Column at index 6 is called RUE_INTERSECTION2\n",
      "Column at index 7 is called LOC_ERREUR_GDT\n",
      "Column at index 8 is called ARRONDISSEMENT\n",
      "Column at index 9 is called ARRONDISSEMENT_GEO\n",
      "Column at index 10 is called LIN_CODE_POSTAL\n",
      "Column at index 11 is called DDS_DATE_CREATION\n",
      "Column at index 12 is called PROVENANCE_ORIGINALE\n",
      "Column at index 13 is called PROVENANCE_TELEPHONE\n",
      "Column at index 14 is called PROVENANCE_COURRIEL\n",
      "Column at index 15 is called PROVENANCE_PERSONNE\n",
      "Column at index 16 is called PROVENANCE_COURRIER\n",
      "Column at index 17 is called PROVENANCE_TELECOPIEUR\n",
      "Column at index 18 is called PROVENANCE_INSTANCE\n",
      "Column at index 19 is called PROVENANCE_MOBILE\n",
      "Column at index 20 is called PROVENANCE_MEDIASOCIAUX\n",
      "Column at index 21 is called PROVENANCE_SITEINTERNET\n",
      "Column at index 22 is called UNITE_RESP_PARENT\n",
      "Column at index 23 is called LOC_LONG\n",
      "Column at index 24 is called LOC_LAT\n",
      "Column at index 25 is called LOC_X\n",
      "Column at index 26 is called LOC_Y\n",
      "Column at index 27 is called DERNIER_STATUT\n",
      "Column at index 28 is called DATE_DERNIER_STATUT\n"
     ]
    }
   ],
   "source": [
    "rows, cols = data.shape\n",
    "for (c, i) in zip(data.columns, range(cols)): # iterate over the contents of the header with a for loop\n",
    "    print(f'Column at index {i} is called {c}')"
   ]
  },
  {
   "cell_type": "markdown",
   "metadata": {},
   "source": [
    "Let's also look at a random sample of the rows to get an idea of what the columns contain."
   ]
  },
  {
   "cell_type": "code",
   "execution_count": 4,
   "metadata": {},
   "outputs": [
    {
     "data": {
      "text/html": [
       "<div>\n",
       "<style scoped>\n",
       "    .dataframe tbody tr th:only-of-type {\n",
       "        vertical-align: middle;\n",
       "    }\n",
       "\n",
       "    .dataframe tbody tr th {\n",
       "        vertical-align: top;\n",
       "    }\n",
       "\n",
       "    .dataframe thead th {\n",
       "        text-align: right;\n",
       "    }\n",
       "</style>\n",
       "<table border=\"1\" class=\"dataframe\">\n",
       "  <thead>\n",
       "    <tr style=\"text-align: right;\">\n",
       "      <th></th>\n",
       "      <th>ID_UNIQUE</th>\n",
       "      <th>NATURE</th>\n",
       "      <th>ACTI_NOM</th>\n",
       "      <th>TYPE_LIEU_INTERV</th>\n",
       "      <th>RUE</th>\n",
       "      <th>RUE_INTERSECTION1</th>\n",
       "      <th>RUE_INTERSECTION2</th>\n",
       "      <th>LOC_ERREUR_GDT</th>\n",
       "      <th>ARRONDISSEMENT</th>\n",
       "      <th>ARRONDISSEMENT_GEO</th>\n",
       "      <th>...</th>\n",
       "      <th>PROVENANCE_MOBILE</th>\n",
       "      <th>PROVENANCE_MEDIASOCIAUX</th>\n",
       "      <th>PROVENANCE_SITEINTERNET</th>\n",
       "      <th>UNITE_RESP_PARENT</th>\n",
       "      <th>LOC_LONG</th>\n",
       "      <th>LOC_LAT</th>\n",
       "      <th>LOC_X</th>\n",
       "      <th>LOC_Y</th>\n",
       "      <th>DERNIER_STATUT</th>\n",
       "      <th>DATE_DERNIER_STATUT</th>\n",
       "    </tr>\n",
       "  </thead>\n",
       "  <tbody>\n",
       "    <tr>\n",
       "      <th>3623826</th>\n",
       "      <td>18-292320</td>\n",
       "      <td>Requete</td>\n",
       "      <td>Collecte des encombrants</td>\n",
       "      <td>Adresse</td>\n",
       "      <td>rue Eugène-Payette</td>\n",
       "      <td>NaN</td>\n",
       "      <td>NaN</td>\n",
       "      <td>0.0</td>\n",
       "      <td>Rivière-des-Prairies - Pointe-aux-Trembles</td>\n",
       "      <td>Rivière-des-Prairies-Pointe-aux-Trembles</td>\n",
       "      <td>...</td>\n",
       "      <td>0</td>\n",
       "      <td>0</td>\n",
       "      <td>0</td>\n",
       "      <td>RIVIÈRE-DES-PRAIRIES - POINTE-AUX-TREMBLES</td>\n",
       "      <td>-73.493376</td>\n",
       "      <td>45.691577</td>\n",
       "      <td>305315.947127</td>\n",
       "      <td>5.061299e+06</td>\n",
       "      <td>Terminée</td>\n",
       "      <td>2018-09-17T10:58:20</td>\n",
       "    </tr>\n",
       "    <tr>\n",
       "      <th>42733</th>\n",
       "      <td>NaN</td>\n",
       "      <td>Information</td>\n",
       "      <td>Permis - Divers</td>\n",
       "      <td>NaN</td>\n",
       "      <td>NaN</td>\n",
       "      <td>NaN</td>\n",
       "      <td>NaN</td>\n",
       "      <td>NaN</td>\n",
       "      <td>NaN</td>\n",
       "      <td>NaN</td>\n",
       "      <td>...</td>\n",
       "      <td>0</td>\n",
       "      <td>0</td>\n",
       "      <td>0</td>\n",
       "      <td>LASALLE</td>\n",
       "      <td>NaN</td>\n",
       "      <td>NaN</td>\n",
       "      <td>NaN</td>\n",
       "      <td>NaN</td>\n",
       "      <td>NaN</td>\n",
       "      <td>2018-03-21T08:33:47</td>\n",
       "    </tr>\n",
       "    <tr>\n",
       "      <th>3975155</th>\n",
       "      <td>17-344129</td>\n",
       "      <td>Requete</td>\n",
       "      <td>Services Techniques - Varia</td>\n",
       "      <td>Adresse</td>\n",
       "      <td>avenue West Hill</td>\n",
       "      <td>NaN</td>\n",
       "      <td>NaN</td>\n",
       "      <td>0.0</td>\n",
       "      <td>Côte-des-Neiges - Notre-Dame-de-Grâce</td>\n",
       "      <td>Côte-des-Neiges-Notre-Dame-de-Grâce</td>\n",
       "      <td>...</td>\n",
       "      <td>0</td>\n",
       "      <td>0</td>\n",
       "      <td>0</td>\n",
       "      <td>COTE-DES-NEIGES - NOTRE-DAME-DE-GRÂCE</td>\n",
       "      <td>-73.641783</td>\n",
       "      <td>45.472444</td>\n",
       "      <td>293714.220195</td>\n",
       "      <td>5.036956e+06</td>\n",
       "      <td>Terminée</td>\n",
       "      <td>2017-11-24T12:34:09</td>\n",
       "    </tr>\n",
       "    <tr>\n",
       "      <th>2959475</th>\n",
       "      <td>20-181495</td>\n",
       "      <td>Requete</td>\n",
       "      <td>Éclairage existant - Entretien</td>\n",
       "      <td>Intersection</td>\n",
       "      <td>NaN</td>\n",
       "      <td>rue Jean-Talon</td>\n",
       "      <td>rue Michelet</td>\n",
       "      <td>0.0</td>\n",
       "      <td>Saint-Léonard</td>\n",
       "      <td>Saint-Léonard</td>\n",
       "      <td>...</td>\n",
       "      <td>0</td>\n",
       "      <td>0</td>\n",
       "      <td>0</td>\n",
       "      <td>SAINT-LÉONARD</td>\n",
       "      <td>-73.583653</td>\n",
       "      <td>45.576377</td>\n",
       "      <td>298271.319000</td>\n",
       "      <td>5.048500e+06</td>\n",
       "      <td>Terminée</td>\n",
       "      <td>2020-08-04T15:14:08</td>\n",
       "    </tr>\n",
       "    <tr>\n",
       "      <th>1238776</th>\n",
       "      <td>NaN</td>\n",
       "      <td>Information</td>\n",
       "      <td>Collecte de résidus alimentaires</td>\n",
       "      <td>NaN</td>\n",
       "      <td>NaN</td>\n",
       "      <td>NaN</td>\n",
       "      <td>NaN</td>\n",
       "      <td>NaN</td>\n",
       "      <td>NaN</td>\n",
       "      <td>NaN</td>\n",
       "      <td>...</td>\n",
       "      <td>0</td>\n",
       "      <td>0</td>\n",
       "      <td>0</td>\n",
       "      <td>MONTREAL-NORD</td>\n",
       "      <td>NaN</td>\n",
       "      <td>NaN</td>\n",
       "      <td>NaN</td>\n",
       "      <td>NaN</td>\n",
       "      <td>NaN</td>\n",
       "      <td>2018-04-25T16:38:39</td>\n",
       "    </tr>\n",
       "    <tr>\n",
       "      <th>2889078</th>\n",
       "      <td>20-245535</td>\n",
       "      <td>Requete</td>\n",
       "      <td>Fermeture d'entrée d'eau</td>\n",
       "      <td>Adresse</td>\n",
       "      <td>avenue 42e</td>\n",
       "      <td>NaN</td>\n",
       "      <td>NaN</td>\n",
       "      <td>0.0</td>\n",
       "      <td>Rivière-des-Prairies - Pointe-aux-Trembles</td>\n",
       "      <td>Rivière-des-Prairies-Pointe-aux-Trembles</td>\n",
       "      <td>...</td>\n",
       "      <td>0</td>\n",
       "      <td>0</td>\n",
       "      <td>0</td>\n",
       "      <td>RIVIÈRE-DES-PRAIRIES - POINTE-AUX-TREMBLES</td>\n",
       "      <td>-73.577997</td>\n",
       "      <td>45.646617</td>\n",
       "      <td>298720.326890</td>\n",
       "      <td>5.056305e+06</td>\n",
       "      <td>Terminée</td>\n",
       "      <td>2020-09-30T07:53:36</td>\n",
       "    </tr>\n",
       "  </tbody>\n",
       "</table>\n",
       "<p>6 rows × 29 columns</p>\n",
       "</div>"
      ],
      "text/plain": [
       "         ID_UNIQUE       NATURE                          ACTI_NOM  \\\n",
       "3623826  18-292320      Requete          Collecte des encombrants   \n",
       "42733          NaN  Information                   Permis - Divers   \n",
       "3975155  17-344129      Requete       Services Techniques - Varia   \n",
       "2959475  20-181495      Requete    Éclairage existant - Entretien   \n",
       "1238776        NaN  Information  Collecte de résidus alimentaires   \n",
       "2889078  20-245535      Requete          Fermeture d'entrée d'eau   \n",
       "\n",
       "        TYPE_LIEU_INTERV                 RUE RUE_INTERSECTION1  \\\n",
       "3623826          Adresse  rue Eugène-Payette               NaN   \n",
       "42733                NaN                 NaN               NaN   \n",
       "3975155          Adresse    avenue West Hill               NaN   \n",
       "2959475     Intersection                 NaN    rue Jean-Talon   \n",
       "1238776              NaN                 NaN               NaN   \n",
       "2889078          Adresse          avenue 42e               NaN   \n",
       "\n",
       "        RUE_INTERSECTION2  LOC_ERREUR_GDT  \\\n",
       "3623826               NaN             0.0   \n",
       "42733                 NaN             NaN   \n",
       "3975155               NaN             0.0   \n",
       "2959475      rue Michelet             0.0   \n",
       "1238776               NaN             NaN   \n",
       "2889078               NaN             0.0   \n",
       "\n",
       "                                     ARRONDISSEMENT  \\\n",
       "3623826  Rivière-des-Prairies - Pointe-aux-Trembles   \n",
       "42733                                           NaN   \n",
       "3975155       Côte-des-Neiges - Notre-Dame-de-Grâce   \n",
       "2959475                               Saint-Léonard   \n",
       "1238776                                         NaN   \n",
       "2889078  Rivière-des-Prairies - Pointe-aux-Trembles   \n",
       "\n",
       "                               ARRONDISSEMENT_GEO  ... PROVENANCE_MOBILE  \\\n",
       "3623826  Rivière-des-Prairies-Pointe-aux-Trembles  ...                 0   \n",
       "42733                                         NaN  ...                 0   \n",
       "3975155       Côte-des-Neiges-Notre-Dame-de-Grâce  ...                 0   \n",
       "2959475                             Saint-Léonard  ...                 0   \n",
       "1238776                                       NaN  ...                 0   \n",
       "2889078  Rivière-des-Prairies-Pointe-aux-Trembles  ...                 0   \n",
       "\n",
       "        PROVENANCE_MEDIASOCIAUX PROVENANCE_SITEINTERNET  \\\n",
       "3623826                       0                       0   \n",
       "42733                         0                       0   \n",
       "3975155                       0                       0   \n",
       "2959475                       0                       0   \n",
       "1238776                       0                       0   \n",
       "2889078                       0                       0   \n",
       "\n",
       "                                  UNITE_RESP_PARENT   LOC_LONG    LOC_LAT  \\\n",
       "3623826  RIVIÈRE-DES-PRAIRIES - POINTE-AUX-TREMBLES -73.493376  45.691577   \n",
       "42733                                       LASALLE        NaN        NaN   \n",
       "3975155       COTE-DES-NEIGES - NOTRE-DAME-DE-GRÂCE -73.641783  45.472444   \n",
       "2959475                               SAINT-LÉONARD -73.583653  45.576377   \n",
       "1238776                               MONTREAL-NORD        NaN        NaN   \n",
       "2889078  RIVIÈRE-DES-PRAIRIES - POINTE-AUX-TREMBLES -73.577997  45.646617   \n",
       "\n",
       "                 LOC_X         LOC_Y  DERNIER_STATUT  DATE_DERNIER_STATUT  \n",
       "3623826  305315.947127  5.061299e+06        Terminée  2018-09-17T10:58:20  \n",
       "42733              NaN           NaN             NaN  2018-03-21T08:33:47  \n",
       "3975155  293714.220195  5.036956e+06        Terminée  2017-11-24T12:34:09  \n",
       "2959475  298271.319000  5.048500e+06        Terminée  2020-08-04T15:14:08  \n",
       "1238776            NaN           NaN             NaN  2018-04-25T16:38:39  \n",
       "2889078  298720.326890  5.056305e+06        Terminée  2020-09-30T07:53:36  \n",
       "\n",
       "[6 rows x 29 columns]"
      ]
     },
     "execution_count": 4,
     "metadata": {},
     "output_type": "execute_result"
    }
   ],
   "source": [
    "data.sample(6)"
   ]
  },
  {
   "cell_type": "markdown",
   "metadata": {},
   "source": [
    "We have not done anything with those `PROVENANCE` columns yet that indicate the ways in which the incident in question has been reported. A quick reminder as to what they contain:"
   ]
  },
  {
   "cell_type": "code",
   "execution_count": 5,
   "metadata": {},
   "outputs": [
    {
     "name": "stdout",
     "output_type": "stream",
     "text": [
      "['PROVENANCE_ORIGINALE', 'PROVENANCE_TELEPHONE', 'PROVENANCE_COURRIEL', 'PROVENANCE_PERSONNE', 'PROVENANCE_COURRIER', 'PROVENANCE_TELECOPIEUR', 'PROVENANCE_INSTANCE', 'PROVENANCE_MOBILE', 'PROVENANCE_MEDIASOCIAUX', 'PROVENANCE_SITEINTERNET']\n"
     ]
    },
    {
     "data": {
      "text/plain": [
       "<matplotlib.legend.Legend at 0x7f3c41426f70>"
      ]
     },
     "execution_count": 5,
     "metadata": {},
     "output_type": "execute_result"
    },
    {
     "data": {
      "image/png": "[encoded data removed]",
      "text/plain": [
       "<Figure size 1440x1080 with 1 Axes>"
      ]
     },
     "metadata": {},
     "output_type": "display_data"
    }
   ],
   "source": [
    "data.tail()\n",
    "prov = [ col for col in data.columns if 'PROVENANCE' in col ] # which columns are these\n",
    "print(prov)\n",
    "from collections import Counter\n",
    "c = Counter(data[prov[0]])\n",
    "import matplotlib.pyplot as plt\n",
    "plt.rcParams['figure.figsize'] = [ 20, 15 ] # bigger plots\n",
    "font = { 'size'   : 20 } # bigger font\n",
    "plt.rc('font', **font)\n",
    "patches, texts = plt.pie(c.values())\n",
    "plt.legend(patches, c.keys(), loc = 'lower right', \n",
    "           bbox_to_anchor = (-0.1, 1.), fontsize = 18)"
   ]
  },
  {
   "cell_type": "markdown",
   "metadata": {},
   "source": [
    "Note that `nan` refers to *no valid value given*.\n",
    "\n",
    "The first `PROVENANCE` column indicates how the record was first created. The others are counters on the number of times the record was reported through different media."
   ]
  },
  {
   "cell_type": "code",
   "execution_count": 6,
   "metadata": {},
   "outputs": [
    {
     "name": "stdout",
     "output_type": "stream",
     "text": [
      "count   4635093.00\n",
      "mean          0.84\n",
      "std           0.63\n",
      "min           0.00\n",
      "25%           1.00\n",
      "50%           1.00\n",
      "75%           1.00\n",
      "max         116.00\n",
      "Name: PROVENANCE_TELEPHONE, dtype: float64\n",
      "\n",
      "\n",
      "\n",
      "count   4635093.00\n",
      "mean          0.03\n",
      "std           0.19\n",
      "min           0.00\n",
      "25%           0.00\n",
      "50%           0.00\n",
      "75%           0.00\n",
      "max          40.00\n",
      "Name: PROVENANCE_COURRIEL, dtype: float64\n",
      "\n",
      "\n",
      "\n",
      "count   4635093.00\n",
      "mean          0.20\n",
      "std           0.44\n",
      "min           0.00\n",
      "25%           0.00\n",
      "50%           0.00\n",
      "75%           0.00\n",
      "max          29.00\n",
      "Name: PROVENANCE_PERSONNE, dtype: float64\n",
      "\n",
      "\n",
      "\n",
      "count   4635093.00\n",
      "mean          0.00\n",
      "std           0.06\n",
      "min           0.00\n",
      "25%           0.00\n",
      "50%           0.00\n",
      "75%           0.00\n",
      "max           6.00\n",
      "Name: PROVENANCE_COURRIER, dtype: float64\n",
      "\n",
      "\n",
      "\n",
      "count   4635093.00\n",
      "mean          0.00\n",
      "std           0.02\n",
      "min           0.00\n",
      "25%           0.00\n",
      "50%           0.00\n",
      "75%           0.00\n",
      "max           5.00\n",
      "Name: PROVENANCE_TELECOPIEUR, dtype: float64\n",
      "\n",
      "\n",
      "\n",
      "count   4635093.00\n",
      "mean          0.00\n",
      "std           0.03\n",
      "min           0.00\n",
      "25%           0.00\n",
      "50%           0.00\n",
      "75%           0.00\n",
      "max           4.00\n",
      "Name: PROVENANCE_INSTANCE, dtype: float64\n",
      "\n",
      "\n",
      "\n",
      "count   4635093.00\n",
      "mean          0.01\n",
      "std           0.13\n",
      "min           0.00\n",
      "25%           0.00\n",
      "50%           0.00\n",
      "75%           0.00\n",
      "max          42.00\n",
      "Name: PROVENANCE_MOBILE, dtype: float64\n",
      "\n",
      "\n",
      "\n",
      "count   4635093.00\n",
      "mean          0.00\n",
      "std           0.01\n",
      "min           0.00\n",
      "25%           0.00\n",
      "50%           0.00\n",
      "75%           0.00\n",
      "max           5.00\n",
      "Name: PROVENANCE_MEDIASOCIAUX, dtype: float64\n",
      "\n",
      "\n",
      "\n",
      "count   4635093.00\n",
      "mean          0.01\n",
      "std           0.09\n",
      "min           0.00\n",
      "25%           0.00\n",
      "50%           0.00\n",
      "75%           0.00\n",
      "max          47.00\n",
      "Name: PROVENANCE_SITEINTERNET, dtype: float64\n",
      "\n",
      "\n",
      "\n"
     ]
    }
   ],
   "source": [
    "prov = prov[1:] # examine just the numerical ones\n",
    "from scipy.stats import describe\n",
    "pd.options.display.float_format = '{:.2f}'.format # no scientific format, two decimal places\n",
    "for col in prov:\n",
    "    print(data[col].describe())\n",
    "    print('\\n\\n')"
   ]
  },
  {
   "cell_type": "markdown",
   "metadata": {},
   "source": [
    "Let's figure out if the numeric ones are correlated."
   ]
  },
  {
   "cell_type": "code",
   "execution_count": 7,
   "metadata": {},
   "outputs": [
    {
     "name": "stdout",
     "output_type": "stream",
     "text": [
      "(4635093, 8)\n"
     ]
    }
   ],
   "source": [
    "origin = data[prov[1:]] # keep just the numeric ones so that we get a smaller dataframe\n",
    "origin.head()\n",
    "print(origin.shape)"
   ]
  },
  {
   "cell_type": "markdown",
   "metadata": {},
   "source": [
    "Four million and then some might be a bit much to analyze. Maybe we could just focus on reports *created* during the year 2019."
   ]
  },
  {
   "cell_type": "code",
   "execution_count": 8,
   "metadata": {},
   "outputs": [
    {
     "name": "stdout",
     "output_type": "stream",
     "text": [
      "(739980, 8)\n"
     ]
    }
   ],
   "source": [
    "data['timestamp'] =  pd.to_datetime(data['DDS_DATE_CREATION'], infer_datetime_format = True)\n",
    "year = data[data['timestamp'].dt.year == 2019]\n",
    "origin = year[prov[1:]] # keep just the numeric ones so that we get a smaller dataframe\n",
    "print(origin.shape)"
   ]
  },
  {
   "cell_type": "markdown",
   "metadata": {},
   "source": [
    "This makes us a smaller dataframe with only the columns with the source counters and the rows that correspond to records created in 2019. The column names are a bit redundantly long now: we can get rid of that repeating `PROVENANCE_` in them."
   ]
  },
  {
   "cell_type": "code",
   "execution_count": 9,
   "metadata": {},
   "outputs": [
    {
     "name": "stdout",
     "output_type": "stream",
     "text": [
      "{'PROVENANCE_TELEPHONE': 'TELEPHONE', 'PROVENANCE_COURRIEL': 'COURRIEL', 'PROVENANCE_PERSONNE': 'PERSONNE', 'PROVENANCE_COURRIER': 'COURRIER', 'PROVENANCE_TELECOPIEUR': 'TELECOPIEUR', 'PROVENANCE_INSTANCE': 'INSTANCE', 'PROVENANCE_MOBILE': 'MOBILE', 'PROVENANCE_MEDIASOCIAUX': 'MEDIASOCIAUX', 'PROVENANCE_SITEINTERNET': 'SITEINTERNET'}\n"
     ]
    },
    {
     "data": {
      "text/html": [
       "<div>\n",
       "<style scoped>\n",
       "    .dataframe tbody tr th:only-of-type {\n",
       "        vertical-align: middle;\n",
       "    }\n",
       "\n",
       "    .dataframe tbody tr th {\n",
       "        vertical-align: top;\n",
       "    }\n",
       "\n",
       "    .dataframe thead th {\n",
       "        text-align: right;\n",
       "    }\n",
       "</style>\n",
       "<table border=\"1\" class=\"dataframe\">\n",
       "  <thead>\n",
       "    <tr style=\"text-align: right;\">\n",
       "      <th></th>\n",
       "      <th>COURRIEL</th>\n",
       "      <th>PERSONNE</th>\n",
       "      <th>COURRIER</th>\n",
       "      <th>TELECOPIEUR</th>\n",
       "      <th>INSTANCE</th>\n",
       "      <th>MOBILE</th>\n",
       "      <th>MEDIASOCIAUX</th>\n",
       "      <th>SITEINTERNET</th>\n",
       "    </tr>\n",
       "  </thead>\n",
       "  <tbody>\n",
       "    <tr>\n",
       "      <th>0</th>\n",
       "      <td>0</td>\n",
       "      <td>0</td>\n",
       "      <td>0</td>\n",
       "      <td>0</td>\n",
       "      <td>0</td>\n",
       "      <td>0</td>\n",
       "      <td>0</td>\n",
       "      <td>0</td>\n",
       "    </tr>\n",
       "    <tr>\n",
       "      <th>4</th>\n",
       "      <td>0</td>\n",
       "      <td>0</td>\n",
       "      <td>0</td>\n",
       "      <td>0</td>\n",
       "      <td>0</td>\n",
       "      <td>0</td>\n",
       "      <td>0</td>\n",
       "      <td>0</td>\n",
       "    </tr>\n",
       "    <tr>\n",
       "      <th>5</th>\n",
       "      <td>0</td>\n",
       "      <td>0</td>\n",
       "      <td>0</td>\n",
       "      <td>0</td>\n",
       "      <td>0</td>\n",
       "      <td>0</td>\n",
       "      <td>0</td>\n",
       "      <td>0</td>\n",
       "    </tr>\n",
       "    <tr>\n",
       "      <th>42</th>\n",
       "      <td>0</td>\n",
       "      <td>0</td>\n",
       "      <td>0</td>\n",
       "      <td>0</td>\n",
       "      <td>0</td>\n",
       "      <td>0</td>\n",
       "      <td>0</td>\n",
       "      <td>0</td>\n",
       "    </tr>\n",
       "    <tr>\n",
       "      <th>43</th>\n",
       "      <td>0</td>\n",
       "      <td>0</td>\n",
       "      <td>0</td>\n",
       "      <td>0</td>\n",
       "      <td>0</td>\n",
       "      <td>0</td>\n",
       "      <td>0</td>\n",
       "      <td>0</td>\n",
       "    </tr>\n",
       "  </tbody>\n",
       "</table>\n",
       "</div>"
      ],
      "text/plain": [
       "    COURRIEL  PERSONNE  COURRIER  TELECOPIEUR  INSTANCE  MOBILE  MEDIASOCIAUX  \\\n",
       "0          0         0         0            0         0       0             0   \n",
       "4          0         0         0            0         0       0             0   \n",
       "5          0         0         0            0         0       0             0   \n",
       "42         0         0         0            0         0       0             0   \n",
       "43         0         0         0            0         0       0             0   \n",
       "\n",
       "    SITEINTERNET  \n",
       "0              0  \n",
       "4              0  \n",
       "5              0  \n",
       "42             0  \n",
       "43             0  "
      ]
     },
     "execution_count": 9,
     "metadata": {},
     "output_type": "execute_result"
    }
   ],
   "source": [
    "shorter = { p : p.replace('PROVENANCE_', '') for p in prov }\n",
    "print(shorter)\n",
    "origin = origin.rename(columns = shorter)\n",
    "origin.head()"
   ]
  },
  {
   "cell_type": "markdown",
   "metadata": {},
   "source": [
    "The rows that only have zeroes are of no interest, though."
   ]
  },
  {
   "cell_type": "code",
   "execution_count": 10,
   "metadata": {
    "scrolled": true
   },
   "outputs": [
    {
     "name": "stdout",
     "output_type": "stream",
     "text": [
      "(204582, 8)\n"
     ]
    },
    {
     "data": {
      "text/html": [
       "<div>\n",
       "<style scoped>\n",
       "    .dataframe tbody tr th:only-of-type {\n",
       "        vertical-align: middle;\n",
       "    }\n",
       "\n",
       "    .dataframe tbody tr th {\n",
       "        vertical-align: top;\n",
       "    }\n",
       "\n",
       "    .dataframe thead th {\n",
       "        text-align: right;\n",
       "    }\n",
       "</style>\n",
       "<table border=\"1\" class=\"dataframe\">\n",
       "  <thead>\n",
       "    <tr style=\"text-align: right;\">\n",
       "      <th></th>\n",
       "      <th>COURRIEL</th>\n",
       "      <th>PERSONNE</th>\n",
       "      <th>COURRIER</th>\n",
       "      <th>TELECOPIEUR</th>\n",
       "      <th>INSTANCE</th>\n",
       "      <th>MOBILE</th>\n",
       "      <th>MEDIASOCIAUX</th>\n",
       "      <th>SITEINTERNET</th>\n",
       "    </tr>\n",
       "  </thead>\n",
       "  <tbody>\n",
       "    <tr>\n",
       "      <th>44</th>\n",
       "      <td>0</td>\n",
       "      <td>1</td>\n",
       "      <td>0</td>\n",
       "      <td>0</td>\n",
       "      <td>0</td>\n",
       "      <td>0</td>\n",
       "      <td>0</td>\n",
       "      <td>0</td>\n",
       "    </tr>\n",
       "    <tr>\n",
       "      <th>231</th>\n",
       "      <td>0</td>\n",
       "      <td>1</td>\n",
       "      <td>0</td>\n",
       "      <td>0</td>\n",
       "      <td>0</td>\n",
       "      <td>0</td>\n",
       "      <td>0</td>\n",
       "      <td>0</td>\n",
       "    </tr>\n",
       "    <tr>\n",
       "      <th>702</th>\n",
       "      <td>0</td>\n",
       "      <td>1</td>\n",
       "      <td>0</td>\n",
       "      <td>0</td>\n",
       "      <td>0</td>\n",
       "      <td>0</td>\n",
       "      <td>0</td>\n",
       "      <td>0</td>\n",
       "    </tr>\n",
       "    <tr>\n",
       "      <th>729</th>\n",
       "      <td>0</td>\n",
       "      <td>1</td>\n",
       "      <td>0</td>\n",
       "      <td>0</td>\n",
       "      <td>0</td>\n",
       "      <td>0</td>\n",
       "      <td>0</td>\n",
       "      <td>0</td>\n",
       "    </tr>\n",
       "    <tr>\n",
       "      <th>1057</th>\n",
       "      <td>0</td>\n",
       "      <td>1</td>\n",
       "      <td>0</td>\n",
       "      <td>0</td>\n",
       "      <td>0</td>\n",
       "      <td>0</td>\n",
       "      <td>0</td>\n",
       "      <td>0</td>\n",
       "    </tr>\n",
       "  </tbody>\n",
       "</table>\n",
       "</div>"
      ],
      "text/plain": [
       "      COURRIEL  PERSONNE  COURRIER  TELECOPIEUR  INSTANCE  MOBILE  \\\n",
       "44           0         1         0            0         0       0   \n",
       "231          0         1         0            0         0       0   \n",
       "702          0         1         0            0         0       0   \n",
       "729          0         1         0            0         0       0   \n",
       "1057         0         1         0            0         0       0   \n",
       "\n",
       "      MEDIASOCIAUX  SITEINTERNET  \n",
       "44               0             0  \n",
       "231              0             0  \n",
       "702              0             0  \n",
       "729              0             0  \n",
       "1057             0             0  "
      ]
     },
     "execution_count": 10,
     "metadata": {},
     "output_type": "execute_result"
    }
   ],
   "source": [
    "content = origin.loc[~(origin == 0).all(axis = 1)]\n",
    "print(content.shape)\n",
    "content.head()"
   ]
  },
  {
   "cell_type": "markdown",
   "metadata": {},
   "source": [
    "Hey, these seem to be all one or zero. Let's examine that assumption further."
   ]
  },
  {
   "cell_type": "code",
   "execution_count": 11,
   "metadata": {},
   "outputs": [
    {
     "name": "stdout",
     "output_type": "stream",
     "text": [
      "1     193995\n",
      "2       7767\n",
      "3       1790\n",
      "4        574\n",
      "5        218\n",
      "6        107\n",
      "7         58\n",
      "9         21\n",
      "8         20\n",
      "11         9\n",
      "10         8\n",
      "13         4\n",
      "12         2\n",
      "15         2\n",
      "29         1\n",
      "14         1\n",
      "22         1\n",
      "23         1\n",
      "24         1\n",
      "27         1\n",
      "47         1\n",
      "dtype: int64\n"
     ]
    }
   ],
   "source": [
    "print(content.sum(axis = 1).value_counts())"
   ]
  },
  {
   "cell_type": "markdown",
   "metadata": {},
   "source": [
    "So, they are not **all** just one source, but most are. Then again, we know that some of the record identifiers in the column `ID_UNIQUE` repeated so we may wish to combine the counters that share the same ID."
   ]
  },
  {
   "cell_type": "code",
   "execution_count": 12,
   "metadata": {},
   "outputs": [
    {
     "name": "stdout",
     "output_type": "stream",
     "text": [
      "Kept columns Index(['ID_UNIQUE', 'PROVENANCE_COURRIEL', 'PROVENANCE_PERSONNE',\n",
      "       'PROVENANCE_COURRIER', 'PROVENANCE_TELECOPIEUR', 'PROVENANCE_INSTANCE',\n",
      "       'PROVENANCE_MOBILE', 'PROVENANCE_MEDIASOCIAUX',\n",
      "       'PROVENANCE_SITEINTERNET'],\n",
      "      dtype='object')\n",
      "Shape before combining (739980, 9)\n",
      "Shape after combining (390501, 8)\n"
     ]
    }
   ],
   "source": [
    "subset = year[['ID_UNIQUE'] + prov[1:]] # keep the ID\n",
    "print('Kept columns', subset.columns)\n",
    "print('Shape before combining', subset.shape)\n",
    "combined = subset.groupby('ID_UNIQUE').sum()\n",
    "print('Shape after combining', combined.shape)"
   ]
  },
  {
   "cell_type": "markdown",
   "metadata": {},
   "source": [
    "Much fewer now that they were combined. We still want to get rid of the ones that only contain zeroes in the counter columns."
   ]
  },
  {
   "cell_type": "code",
   "execution_count": 13,
   "metadata": {},
   "outputs": [
    {
     "name": "stdout",
     "output_type": "stream",
     "text": [
      "Shape after pruning blanks (135888, 8)\n",
      "1     125301\n",
      "2       7767\n",
      "3       1790\n",
      "4        574\n",
      "5        218\n",
      "6        107\n",
      "7         58\n",
      "9         21\n",
      "8         20\n",
      "11         9\n",
      "10         8\n",
      "13         4\n",
      "12         2\n",
      "15         2\n",
      "29         1\n",
      "14         1\n",
      "22         1\n",
      "23         1\n",
      "24         1\n",
      "27         1\n",
      "47         1\n",
      "dtype: int64\n"
     ]
    }
   ],
   "source": [
    "counters = combined[prov[1:]]\n",
    "noblank = counters.loc[~(counters == 0).all(axis = 1)] # remove blanks\n",
    "print('Shape after pruning blanks', noblank.shape)\n",
    "print(noblank.sum(axis = 1).value_counts())"
   ]
  },
  {
   "cell_type": "markdown",
   "metadata": {},
   "source": [
    "The records that only have *one report* are not potential sources of correlations between reporting channels and they are a majority, so let's prune those out as well to pursue our goal."
   ]
  },
  {
   "cell_type": "code",
   "execution_count": 14,
   "metadata": {},
   "outputs": [
    {
     "name": "stdout",
     "output_type": "stream",
     "text": [
      "2     7767\n",
      "3     1790\n",
      "4      574\n",
      "5      218\n",
      "6      107\n",
      "7       58\n",
      "9       21\n",
      "8       20\n",
      "11       9\n",
      "10       8\n",
      "13       4\n",
      "12       2\n",
      "15       2\n",
      "27       1\n",
      "23       1\n",
      "29       1\n",
      "14       1\n",
      "22       1\n",
      "24       1\n",
      "47       1\n",
      "dtype: int64\n"
     ]
    }
   ],
   "source": [
    "sources = noblank.sum(axis = 1)\n",
    "multi = noblank.loc[sources != 1] # remove singletons\n",
    "print(multi.sum(axis = 1).value_counts())"
   ]
  },
  {
   "cell_type": "markdown",
   "metadata": {},
   "source": [
    "Now we can move on with figuring out whether reporting through specific pairs of channels has some relations.\n",
    "\n",
    "We compute and place the correlations with an [auxiliary function](https://stackoverflow.com/a/50835066)."
   ]
  },
  {
   "cell_type": "code",
   "execution_count": 15,
   "metadata": {
    "scrolled": true
   },
   "outputs": [
    {
     "data": {
      "text/plain": [
       "<seaborn.axisgrid.PairGrid at 0x7f3bb77e1640>"
      ]
     },
     "execution_count": 15,
     "metadata": {},
     "output_type": "execute_result"
    },
    {
     "data": {
      "image/png": "[encoded data removed]",
      "text/plain": [
       "<Figure size 1440x1440 with 72 Axes>"
      ]
     },
     "metadata": {},
     "output_type": "display_data"
    }
   ],
   "source": [
    "multi = multi.rename(columns = shorter)\n",
    "font = { 'size'   : 12 } \n",
    "plt.rc('font', **font)\n",
    "import seaborn as sns # install with pip if you have not done so yet\n",
    "sns.set(style = 'dark')\n",
    "\n",
    "from scipy.stats import pearsonr\n",
    "\n",
    "def pcor(x, y, ax = None, **kws):\n",
    "    r, _ = pearsonr(x, y)\n",
    "    r *= 100 # percentage\n",
    "    ax = ax or plt.gca()\n",
    "    ax.annotate(f'{r:.0f} %', \n",
    "                xy = (0.5, 0.5), xycoords = 'axes fraction', \n",
    "                ha = 'center', va = 'center',\n",
    "                color = 'black', size = 20)\n",
    "    \n",
    "info = sns.PairGrid(multi)\n",
    "info.map_upper(pcor) # add correlations above the diagonal\n",
    "info.map_lower(sns.scatterplot) # scatter plots below the diagonal\n",
    "info.map_diag(sns.histplot) # histograms on the diagonal"
   ]
  },
  {
   "cell_type": "markdown",
   "metadata": {},
   "source": [
    "Not a lot going on here in terms of correlations. The amount ofreports made in person per incident negatively correlate with the amount of reports made on mobile or online, but it is not a very strong linear relation.\n",
    "\n",
    "What if we want to know which types of reports these are? We have to go back and retain the column `NATURE`.\n",
    "Do all the records corresponding to one same ID share the value of the value of `NATURE`, though?"
   ]
  },
  {
   "cell_type": "code",
   "execution_count": 16,
   "metadata": {},
   "outputs": [
    {
     "name": "stdout",
     "output_type": "stream",
     "text": [
      "Examination commences\n",
      "Examination finished\n"
     ]
    }
   ],
   "source": [
    "s2 = year[['ID_UNIQUE', 'NATURE'] + prov[1:]] # keep also the kind of the report\n",
    "print('Examination commences')\n",
    "for label, members in s2.groupby('ID_UNIQUE'):\n",
    "    kinds = set(members['NATURE'])\n",
    "    k = len(kinds)\n",
    "    if k > 1:\n",
    "        print(f'ID {label} corresponds to {k} types:', ' '.join(kinds))\n",
    "print('Examination finished')"
   ]
  },
  {
   "cell_type": "markdown",
   "metadata": {},
   "source": [
    "At least during 2019 there were no cases of multiple values of `NATURE` associated to any unique ID."
   ]
  },
  {
   "cell_type": "code",
   "execution_count": null,
   "metadata": {},
   "outputs": [],
   "source": [
    "whatToDo = dict.fromkeys(s2, 'sum') # we want to add up the counters\n",
    "whatToDo['NATURE'] = 'first' # that does not apply to the kind, keep the first (assuming this is invariant)\n",
    "s3 = s2.groupby('ID_UNIQUE').agg(whatToDo) \n",
    "s3 = s3.drop(columns = 'ID_UNIQUE') # we do not need this anymore\n",
    "s3.head()"
   ]
  },
  {
   "cell_type": "markdown",
   "metadata": {},
   "source": [
    "Remember how everything tends to be a `Requete`?"
   ]
  },
  {
   "cell_type": "code",
   "execution_count": null,
   "metadata": {
    "scrolled": true
   },
   "outputs": [],
   "source": [
    "from collections import Counter\n",
    "c = Counter(s3['NATURE'])\n",
    "patches, texts = plt.pie(c.values())\n",
    "plt.legend(patches, c.keys(), loc = 'lower right', \n",
    "           bbox_to_anchor = (-0.1, 1.), fontsize = 8)"
   ]
  },
  {
   "cell_type": "markdown",
   "metadata": {},
   "source": [
    "Let's just draw the two underdog categories so that we can actually see them. But now, since we have this strong filter, we can stop filtering by year and just grab it all."
   ]
  },
  {
   "cell_type": "code",
   "execution_count": null,
   "metadata": {},
   "outputs": [],
   "source": [
    "underdogs = data.drop(data[(data.NATURE == 'Requete')].index)\n",
    "part = underdogs[['ID_UNIQUE', 'NATURE'] + prov[1:]] \n",
    "unique = part.groupby('ID_UNIQUE').agg(whatToDo) \n",
    "unique.drop(columns = 'ID_UNIQUE', inplace = True) \n",
    "print(unique.shape)"
   ]
  },
  {
   "cell_type": "code",
   "execution_count": null,
   "metadata": {},
   "outputs": [],
   "source": [
    "twoOrMore = unique[prov[1:]].sum(axis = 1) # we still need to get rid of reports with zero or one source counts\n",
    "kept = unique.loc[twoOrMore > 1] # at least two reports\n",
    "print(kept.shape)\n",
    "shorter['NATURE'] = 'kind'\n",
    "kept = kept.rename(columns = shorter)\n",
    "font = { 'size'   : 12 } \n",
    "plt.rc('font', **font)\n",
    "sns.set(style = 'dark')\n",
    "sns.pairplot(kept, hue = 'kind', kind = 'scatter', diag_kind = 'hist', \n",
    "             diag_kws = {'hue': None, 'color': 'green'},\n",
    "             plot_kws = {'alpha': 0.9, 's': 50, 'edgecolor': 'white'})"
   ]
  },
  {
   "cell_type": "markdown",
   "metadata": {},
   "source": [
    "When the histogram is just one fat bar, it is because there is only one value in that distribution.\n",
    "\n",
    "This dataset does not have a lot of numerical raw data, but it does not mean we cannot obtain meaningful numerical data from it. Remember how each record has two dates: creation date `DDS_DATE_CREATION` and date of the latest update `DATE_DERNIER_STATUT`. Let's take a look at the status field `DERNIER_STATUT`."
   ]
  },
  {
   "cell_type": "code",
   "execution_count": null,
   "metadata": {},
   "outputs": [],
   "source": [
    "c = Counter(data['DERNIER_STATUT'])\n",
    "plt.rcParams['figure.figsize'] = [ 20, 15 ] # bigger plots\n",
    "font = { 'size'   : 20 } # bigger font\n",
    "plt.rc('font', **font)\n",
    "patches, texts = plt.pie(c.values())\n",
    "plt.legend(patches, c.keys(), loc = 'lower right', \n",
    "           bbox_to_anchor = (-0.1, 1.), fontsize = 18)"
   ]
  },
  {
   "cell_type": "markdown",
   "metadata": {},
   "source": [
    "We could obtain the processing times for the ones that have a value other than `nan`, but we have to remember to get rid of the situations in which the same unique ID appears in multiple records. Let's keep the longest processing time for each unique ID."
   ]
  },
  {
   "cell_type": "code",
   "execution_count": null,
   "metadata": {},
   "outputs": [],
   "source": [
    "print(data.shape)\n",
    "status = data.loc[data.DERNIER_STATUT.notnull()]\n",
    "print(status.shape)\n",
    "c = Counter(status['DERNIER_STATUT'])\n",
    "patches, texts = plt.pie(c.values())\n",
    "plt.legend(patches, c.keys(), loc = 'lower right', \n",
    "           bbox_to_anchor = (-0.1, 1.), fontsize = 18)"
   ]
  },
  {
   "cell_type": "code",
   "execution_count": null,
   "metadata": {},
   "outputs": [],
   "source": [
    "data.start =  pd.to_datetime(data['DDS_DATE_CREATION'], infer_datetime_format = True)\n",
    "data.finish =  pd.to_datetime(data['DATE_DERNIER_STATUT'], infer_datetime_format = True)\n",
    "data['duration'] = data.finish - data.start\n",
    "status = data.loc[data.DERNIER_STATUT.notnull()] # just the ones that have a final state\n",
    "print(status.duration.describe())"
   ]
  },
  {
   "cell_type": "markdown",
   "metadata": {},
   "source": [
    "Guessing that zero duration means that nothing was actually done. How many of records are there that were open for less than a minute and what is the status in those records?"
   ]
  },
  {
   "cell_type": "code",
   "execution_count": null,
   "metadata": {},
   "outputs": [],
   "source": [
    "from datetime import timedelta\n",
    "quick = status.loc[ status.duration < timedelta(minutes = 1) ]\n",
    "print(quick.shape)\n",
    "c = Counter(quick['DERNIER_STATUT'])\n",
    "patches, texts = plt.pie(c.values())\n",
    "plt.legend(patches, c.keys(), loc = 'lower right', \n",
    "           bbox_to_anchor = (-0.1, 1.), fontsize = 18)\n",
    "print(quick.duration.describe())"
   ]
  },
  {
   "cell_type": "markdown",
   "metadata": {},
   "source": [
    "A quarter took 11 second or more. Let's try with a 15-second threshold instead."
   ]
  },
  {
   "cell_type": "code",
   "execution_count": null,
   "metadata": {},
   "outputs": [],
   "source": [
    "instant = status.loc[ status.duration < timedelta(seconds = 15) ]\n",
    "print(instant.shape)\n",
    "c = Counter(instant['DERNIER_STATUT'])\n",
    "patches, texts = plt.pie(c.values())\n",
    "plt.legend(patches, c.keys(), loc = 'lower right', \n",
    "           bbox_to_anchor = (-0.1, 1.), fontsize = 18)\n",
    "print(instant.duration.describe())"
   ]
  },
  {
   "cell_type": "markdown",
   "metadata": {},
   "source": [
    "Now a quarter of them are seven seconds or longer. Maybe a five-second threshold?"
   ]
  },
  {
   "cell_type": "code",
   "execution_count": null,
   "metadata": {},
   "outputs": [],
   "source": [
    "immediate = status.loc[ status.duration < timedelta(seconds = 5) ]\n",
    "print(immediate.shape)\n",
    "c = Counter(immediate['DERNIER_STATUT'])\n",
    "patches, texts = plt.pie(c.values())\n",
    "plt.legend(patches, c.keys(), loc = 'lower right', \n",
    "           bbox_to_anchor = (-0.1, 1.), fontsize = 18)\n",
    "print(immediate.duration.describe())"
   ]
  },
  {
   "cell_type": "markdown",
   "metadata": {},
   "source": [
    "That should be fine: we can assume that anything that required human involvement takes at least three seconds.\n",
    "\n",
    "We *mustn't* forget that we need to get rid of records that correspond to the same unique ID before we try to analyze the distribution of the durations so that incidents with multiple records are not accounted for several times, introducing a **bias** in our conclusions. Additionally, all of this duration-related processing is easier if we make a field that contains the number in seconds that corresponds to the duration."
   ]
  },
  {
   "cell_type": "code",
   "execution_count": null,
   "metadata": {},
   "outputs": [],
   "source": [
    "data['seconds'] = data.duration.astype('timedelta64[s]')\n",
    "smaller = data[['ID_UNIQUE', 'seconds' ]] # a smaller dataframe with just these two columns\n",
    "print('Shape before pruning', smaller.shape)\n",
    "highest = smaller.groupby('ID_UNIQUE').max() # keep the highest duration for each ID\n",
    "print('Shape after pruning duplicates', highest.shape)"
   ]
  },
  {
   "cell_type": "markdown",
   "metadata": {},
   "source": [
    "We can safely assume that this will be a scale-free distribution: most reports are processed quickly, some take a very long time. Hence, we should use a doubly logarithmic scale."
   ]
  },
  {
   "cell_type": "code",
   "execution_count": null,
   "metadata": {
    "scrolled": true
   },
   "outputs": [],
   "source": [
    "filtered = highest.loc[ highest.seconds > 3 ]\n",
    "x = filtered.seconds\n",
    "plt.rcParams['figure.figsize'] = [ 12, 12 ] \n",
    "font = { 'size'   : 40 } \n",
    "plt.rc('font', **font)\n",
    "hist, bins, _ = plt.hist(x, bins = 10)\n",
    "plt.xscale('log')\n",
    "plt.yscale('log')\n",
    "plt.xlabel('Duration in seconds')\n",
    "plt.ylabel('Number of reports')\n",
    "plt.show()"
   ]
  },
  {
   "cell_type": "markdown",
   "metadata": {},
   "source": [
    "Heh, maybe with bins that *look* the same width?"
   ]
  },
  {
   "cell_type": "code",
   "execution_count": null,
   "metadata": {},
   "outputs": [],
   "source": [
    "import numpy as np\n",
    "lb = np.logspace(np.log10(bins[0]), np.log10(bins[-1]), len(bins))\n",
    "plt.hist(x, bins = lb)\n",
    "plt.xscale('log')\n",
    "plt.yscale('log')\n",
    "plt.xlabel('Duration in seconds')\n",
    "plt.ylabel('Number of reports')\n",
    "plt.show()"
   ]
  },
  {
   "cell_type": "markdown",
   "metadata": {},
   "source": [
    "Could we use horizontal tic marks that aren't expressed as powers of ten but instead in units that make sense to humans like \"minute\", \"hour\", \"day\"? That would make more sense with a *cumulative* histogram showing the *relative* frequency of duration."
   ]
  },
  {
   "cell_type": "code",
   "execution_count": null,
   "metadata": {},
   "outputs": [],
   "source": [
    "import numpy as np\n",
    "minute = 60 # seconds\n",
    "hour = 60 * minute\n",
    "day = 24 * hour\n",
    "week = 7 * day\n",
    "month = 30 * day # keep it simple\n",
    "semester = 6 * month\n",
    "year = 356 * day\n",
    "low = x.min()\n",
    "high = x.max()\n",
    "assert high > semester\n",
    "sb = [ low, minute, hour, day, week, month, semester, year, high ]\n",
    "fig, ax = plt.subplots(1, 1)\n",
    "ax.hist(x, bins = sb, density = True, cumulative = True)\n",
    "ax.set_xscale('log')\n",
    "ax.set_yscale('log')\n",
    "ax.set_xlabel('Duration in seconds')\n",
    "ax.set_ylabel('Number of reports')\n",
    "xpos = [ (2 * start + end) / 3 for start, end in zip(sb[:-1], sb[1:]) ] # intermediate points\n",
    "ax.set_xticks(xpos)\n",
    "ax.set_xticklabels([ 'less than a minute',  'less than an hour', 'less than a day', \n",
    "                     'less than a week', 'less than a month', 'less than two months',\n",
    "                     'less than half a year', 'any duration' ],\n",
    "                      ha = 'center', rotation = 90) \n",
    "ypos = np.linspace(0.1, 1.0, 10)\n",
    "ax.set_yticks(ypos)\n",
    "ax.set_yticklabels([ f'{v:.1f}' for v in ypos ])\n",
    "plt.grid()\n",
    "plt.show()"
   ]
  },
  {
   "cell_type": "markdown",
   "metadata": {},
   "source": [
    "Now we can interpret. Only a few percent are receive a status in less than a minute (the shortest bar), and then a bunch get done within the hour (more than 10 %), whereas nearly 30 % are done within a day, meaning that over a fifth in total took between an hour and day. Within a week, 60 % are dealt with. So 30 % take more than one day but less than a full week. 20 % are completed in over a week but less than a month. About 15% in more than one month but less than six months. A small fraction takes over half a year to get a status."
   ]
  },
  {
   "cell_type": "code",
   "execution_count": null,
   "metadata": {},
   "outputs": [],
   "source": []
  }
 ],
 "metadata": {
  "kernelspec": {
   "display_name": "Python 3",
   "language": "python",
   "name": "python3"
  },
  "language_info": {
   "codemirror_mode": {
    "name": "ipython",
    "version": 3
   },
   "file_extension": ".py",
   "mimetype": "text/x-python",
   "name": "python",
   "nbconvert_exporter": "python",
   "pygments_lexer": "ipython3",
   "version": "3.8.10"
  }
 },
 "nbformat": 4,
 "nbformat_minor": 4
}
